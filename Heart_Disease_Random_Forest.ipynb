{
  "nbformat": 4,
  "nbformat_minor": 0,
  "metadata": {
    "colab": {
      "provenance": [],
      "collapsed_sections": [],
      "authorship_tag": "ABX9TyNeJ3KVquJTwuFO80BxZGGJ",
      "include_colab_link": true
    },
    "kernelspec": {
      "name": "python3",
      "display_name": "Python 3"
    },
    "language_info": {
      "name": "python"
    }
  },
  "cells": [
    {
      "cell_type": "markdown",
      "metadata": {
        "id": "view-in-github",
        "colab_type": "text"
      },
      "source": [
        "<a href=\"https://colab.research.google.com/github/jcarte99/HeartDiseaseModel/blob/main/Heart_Disease_Random_Forest.ipynb\" target=\"_parent\"><img src=\"https://colab.research.google.com/assets/colab-badge.svg\" alt=\"Open In Colab\"/></a>"
      ]
    },
    {
      "cell_type": "code",
      "execution_count": null,
      "metadata": {
        "id": "KYsh_09H-XB0"
      },
      "outputs": [],
      "source": [
        "import pandas as pd \n",
        "import numpy as np \n",
        "import matplotlib as plt\n",
        "from sklearn.linear_model import LogisticRegression\n",
        "from sklearn.tree import DecisionTreeClassifier\n",
        "from sklearn.ensemble import RandomForestClassifier\n",
        "from sklearn import tree\n",
        "from sklearn.model_selection import train_test_split\n",
        "from sklearn import preprocessing\n",
        "from sklearn.datasets import make_classification\n",
        "from sklearn.preprocessing import StandardScaler\n",
        "import seaborn\n",
        "import statsmodels.api as sm \n",
        "from sklearn.metrics import classification_report, confusion_matrix, accuracy_score\n",
        "from scipy import stats"
      ]
    },
    {
      "cell_type": "code",
      "source": [
        "df = pd.read_csv('hdu.csv')"
      ],
      "metadata": {
        "id": "YUbd2mas_L99"
      },
      "execution_count": null,
      "outputs": []
    },
    {
      "cell_type": "code",
      "source": [
        "df.shape"
      ],
      "metadata": {
        "colab": {
          "base_uri": "https://localhost:8080/"
        },
        "id": "PjooEYus_Yls",
        "outputId": "442838e4-5276-4094-c8f9-0c1f38e0b758"
      },
      "execution_count": null,
      "outputs": [
        {
          "output_type": "execute_result",
          "data": {
            "text/plain": [
              "(741, 16)"
            ]
          },
          "metadata": {},
          "execution_count": 101
        }
      ]
    },
    {
      "cell_type": "code",
      "source": [
        "df.describe"
      ],
      "metadata": {
        "colab": {
          "base_uri": "https://localhost:8080/"
        },
        "id": "dlquhl_N_aqB",
        "outputId": "31982a3d-43fd-4165-ceca-66a9bcc13ce8"
      },
      "execution_count": null,
      "outputs": [
        {
          "output_type": "execute_result",
          "data": {
            "text/plain": [
              "<bound method NDFrame.describe of       id  age   sex        dataset               cp  trestbps  chol    fbs  \\\n",
              "0    657   56  Male    Switzerland     asymptomatic       120     0  False   \n",
              "1    290   56  Male      Cleveland  atypical angina       120   240  False   \n",
              "2    684   61  Male    Switzerland     asymptomatic       125     0  False   \n",
              "3     59   54  Male      Cleveland      non-anginal       125   273  False   \n",
              "4    187   42  Male      Cleveland      non-anginal       120   240   True   \n",
              "..   ...  ...   ...            ...              ...       ...   ...    ...   \n",
              "736  855   55  Male  VA Long Beach     asymptomatic       172   260  False   \n",
              "737  816   63  Male  VA Long Beach     asymptomatic       160   267   True   \n",
              "738  807   69  Male  VA Long Beach     asymptomatic       140   208  False   \n",
              "739  593   52  Male        Hungary     asymptomatic       160   331  False   \n",
              "740  784   56  Male  VA Long Beach      non-anginal       170     0  False   \n",
              "\n",
              "              restecg  thalch  exang  oldpeak        slope   ca  \\\n",
              "0    st-t abnormality     100   True     -1.0  downsloping  NaN   \n",
              "1              normal     169  False      0.0  downsloping  0.0   \n",
              "2              normal     105   True      0.0  downsloping  NaN   \n",
              "3      lv hypertrophy     152  False      0.5  downsloping  1.0   \n",
              "4              normal     194  False      0.8  downsloping  0.0   \n",
              "..                ...     ...    ...      ...          ...  ...   \n",
              "736            normal      73  False      2.0          NaN  NaN   \n",
              "737  st-t abnormality      88   True      2.0          NaN  NaN   \n",
              "738  st-t abnormality     140   True      2.0          NaN  NaN   \n",
              "739            normal      94   True      2.5          NaN  NaN   \n",
              "740    lv hypertrophy     123   True      2.5          NaN  NaN   \n",
              "\n",
              "                  thal  num  \n",
              "0    reversable defect    2  \n",
              "1               normal    0  \n",
              "2    reversable defect    3  \n",
              "3               normal    0  \n",
              "4    reversable defect    0  \n",
              "..                 ...  ...  \n",
              "736                NaN    3  \n",
              "737                NaN    3  \n",
              "738                NaN    3  \n",
              "739                NaN    1  \n",
              "740                NaN    4  \n",
              "\n",
              "[741 rows x 16 columns]>"
            ]
          },
          "metadata": {},
          "execution_count": 102
        }
      ]
    },
    {
      "cell_type": "code",
      "source": [
        "df_drop = df.drop(['dataset', 'ca', 'thal','slope'], axis=1)"
      ],
      "metadata": {
        "id": "TpG1EzzEMYoU"
      },
      "execution_count": null,
      "outputs": []
    },
    {
      "cell_type": "code",
      "source": [
        "df_drop.dropna"
      ],
      "metadata": {
        "colab": {
          "base_uri": "https://localhost:8080/"
        },
        "id": "eggXLV3TUdhY",
        "outputId": "bb17d8a5-611f-4740-fb71-3740c6c9ad3e"
      },
      "execution_count": null,
      "outputs": [
        {
          "output_type": "execute_result",
          "data": {
            "text/plain": [
              "<bound method DataFrame.dropna of       id  age   sex               cp  trestbps  chol    fbs           restecg  \\\n",
              "0    657   56  Male     asymptomatic       120     0  False  st-t abnormality   \n",
              "1    290   56  Male  atypical angina       120   240  False            normal   \n",
              "2    684   61  Male     asymptomatic       125     0  False            normal   \n",
              "3     59   54  Male      non-anginal       125   273  False    lv hypertrophy   \n",
              "4    187   42  Male      non-anginal       120   240   True            normal   \n",
              "..   ...  ...   ...              ...       ...   ...    ...               ...   \n",
              "736  855   55  Male     asymptomatic       172   260  False            normal   \n",
              "737  816   63  Male     asymptomatic       160   267   True  st-t abnormality   \n",
              "738  807   69  Male     asymptomatic       140   208  False  st-t abnormality   \n",
              "739  593   52  Male     asymptomatic       160   331  False            normal   \n",
              "740  784   56  Male      non-anginal       170     0  False    lv hypertrophy   \n",
              "\n",
              "     thalch  exang  oldpeak  num  \n",
              "0       100   True     -1.0    2  \n",
              "1       169  False      0.0    0  \n",
              "2       105   True      0.0    3  \n",
              "3       152  False      0.5    0  \n",
              "4       194  False      0.8    0  \n",
              "..      ...    ...      ...  ...  \n",
              "736      73  False      2.0    3  \n",
              "737      88   True      2.0    3  \n",
              "738     140   True      2.0    3  \n",
              "739      94   True      2.5    1  \n",
              "740     123   True      2.5    4  \n",
              "\n",
              "[741 rows x 12 columns]>"
            ]
          },
          "metadata": {},
          "execution_count": 104
        }
      ]
    },
    {
      "cell_type": "code",
      "source": [
        "df_corr = df_drop.corr()\n",
        "seaborn.heatmap(df_corr,annot=True,cmap='coolwarm')"
      ],
      "metadata": {
        "colab": {
          "base_uri": "https://localhost:8080/",
          "height": 318
        },
        "id": "yo-3_qMYjCkP",
        "outputId": "330f5036-f068-43ca-9c38-dac82262cc3d"
      },
      "execution_count": null,
      "outputs": [
        {
          "output_type": "execute_result",
          "data": {
            "text/plain": [
              "<matplotlib.axes._subplots.AxesSubplot at 0x7fee8dc98250>"
            ]
          },
          "metadata": {},
          "execution_count": 169
        },
        {
          "output_type": "display_data",
          "data": {
            "text/plain": [
              "<Figure size 432x288 with 2 Axes>"
            ],
            "image/png": "[encoded data removed]"
          },
          "metadata": {
            "needs_background": "light"
          }
        }
      ]
    },
    {
      "cell_type": "code",
      "source": [
        "df_dummies = pd.get_dummies(df_drop, columns = ['sex', 'cp', 'fbs', 'restecg', 'exang'], drop_first='TRUE')"
      ],
      "metadata": {
        "id": "yWd06NWwEMU9"
      },
      "execution_count": null,
      "outputs": []
    },
    {
      "cell_type": "code",
      "source": [
        "df_dummies.columns"
      ],
      "metadata": {
        "colab": {
          "base_uri": "https://localhost:8080/"
        },
        "id": "BGo9-870Hzz3",
        "outputId": "76895232-e886-423a-8943-7c2c553bc0a6"
      },
      "execution_count": null,
      "outputs": [
        {
          "output_type": "execute_result",
          "data": {
            "text/plain": [
              "Index(['id', 'age', 'trestbps', 'chol', 'thalch', 'oldpeak', 'num', 'sex_Male',\n",
              "       'cp_atypical angina', 'cp_non-anginal', 'cp_typical angina', 'fbs_True',\n",
              "       'restecg_normal', 'restecg_st-t abnormality', 'exang_True'],\n",
              "      dtype='object')"
            ]
          },
          "metadata": {},
          "execution_count": 123
        }
      ]
    },
    {
      "cell_type": "code",
      "source": [
        "df_int = df_dummies.apply(pd.to_numeric)\n",
        "print (\"\\nto_numeric with assign: \\n\",df_int.dtypes)"
      ],
      "metadata": {
        "colab": {
          "base_uri": "https://localhost:8080/"
        },
        "id": "NEKoFwH4KpLb",
        "outputId": "1c95744a-a0cd-4905-87c8-954decd884d6"
      },
      "execution_count": null,
      "outputs": [
        {
          "output_type": "stream",
          "name": "stdout",
          "text": [
            "\n",
            "to_numeric with assign: \n",
            " id                            int64\n",
            "age                           int64\n",
            "trestbps                      int64\n",
            "chol                          int64\n",
            "thalch                        int64\n",
            "oldpeak                     float64\n",
            "num                           int64\n",
            "sex_Male                      uint8\n",
            "cp_atypical angina            uint8\n",
            "cp_non-anginal                uint8\n",
            "cp_typical angina             uint8\n",
            "fbs_True                      uint8\n",
            "restecg_normal                uint8\n",
            "restecg_st-t abnormality      uint8\n",
            "exang_True                    uint8\n",
            "dtype: object\n"
          ]
        }
      ]
    },
    {
      "cell_type": "code",
      "source": [
        "df_stg = {'id' : int,\n",
        "          'age': int,\n",
        "          'trestbps': int,\n",
        "          'chol': int,\n",
        "          'thalch': int,\n",
        "          'oldpeak': int,\n",
        "          'num': int,\n",
        "          'sex_Male': int,\n",
        "          'cp_atypical angina': int,\n",
        "          'cp_non-anginal': int,\n",
        "          'cp_typical angina': int,\n",
        "          'fbs_True': int,\n",
        "          'restecg_normal': int,\n",
        "          'restecg_st-t abnormality': int,\n",
        "          'exang_True': int}"
      ],
      "metadata": {
        "id": "-6XD1M4MXjTI"
      },
      "execution_count": null,
      "outputs": []
    },
    {
      "cell_type": "code",
      "source": [
        "df_int_final = df_int.astype(df_stg)"
      ],
      "metadata": {
        "id": "YxaWDSNkbGZf"
      },
      "execution_count": null,
      "outputs": []
    },
    {
      "cell_type": "code",
      "source": [
        "df_int_final.dtypes"
      ],
      "metadata": {
        "colab": {
          "base_uri": "https://localhost:8080/"
        },
        "id": "MpstOjN5das4",
        "outputId": "e790b073-d1e2-43ea-e37c-7c0fe81ae95c"
      },
      "execution_count": null,
      "outputs": [
        {
          "output_type": "execute_result",
          "data": {
            "text/plain": [
              "id                          int64\n",
              "age                         int64\n",
              "trestbps                    int64\n",
              "chol                        int64\n",
              "thalch                      int64\n",
              "oldpeak                     int64\n",
              "num                         int64\n",
              "sex_Male                    int64\n",
              "cp_atypical angina          int64\n",
              "cp_non-anginal              int64\n",
              "cp_typical angina           int64\n",
              "fbs_True                    int64\n",
              "restecg_normal              int64\n",
              "restecg_st-t abnormality    int64\n",
              "exang_True                  int64\n",
              "dtype: object"
            ]
          },
          "metadata": {},
          "execution_count": 153
        }
      ]
    },
    {
      "cell_type": "code",
      "source": [
        "seaborn.histplot(data=df_dummies['age'])"
      ],
      "metadata": {
        "colab": {
          "base_uri": "https://localhost:8080/",
          "height": 297
        },
        "id": "q2RCX60oFy68",
        "outputId": "a19cf557-58c9-4594-ec6f-e5a7999608f9"
      },
      "execution_count": null,
      "outputs": [
        {
          "output_type": "execute_result",
          "data": {
            "text/plain": [
              "<matplotlib.axes._subplots.AxesSubplot at 0x7fee98887150>"
            ]
          },
          "metadata": {},
          "execution_count": 74
        },
        {
          "output_type": "display_data",
          "data": {
            "text/plain": [
              "<Figure size 432x288 with 1 Axes>"
            ],
            "image/png": "[encoded data removed]"
          },
          "metadata": {
            "needs_background": "light"
          }
        }
      ]
    },
    {
      "cell_type": "code",
      "source": [
        "seaborn.histplot(data=df_dummies['trestbps'])"
      ],
      "metadata": {
        "colab": {
          "base_uri": "https://localhost:8080/",
          "height": 297
        },
        "id": "BL2YRJ57GkWv",
        "outputId": "842507c0-93d4-43f9-c252-04966de87a9f"
      },
      "execution_count": null,
      "outputs": [
        {
          "output_type": "execute_result",
          "data": {
            "text/plain": [
              "<matplotlib.axes._subplots.AxesSubplot at 0x7fee9b543690>"
            ]
          },
          "metadata": {},
          "execution_count": 23
        },
        {
          "output_type": "display_data",
          "data": {
            "text/plain": [
              "<Figure size 432x288 with 1 Axes>"
            ],
            "image/png": "[encoded data removed]"
          },
          "metadata": {
            "needs_background": "light"
          }
        }
      ]
    },
    {
      "cell_type": "code",
      "source": [
        "seaborn.histplot(data=df_dummies['thalch'])"
      ],
      "metadata": {
        "colab": {
          "base_uri": "https://localhost:8080/",
          "height": 297
        },
        "id": "Ocon4mJ-GuI8",
        "outputId": "75f875a3-e1aa-4e6c-b11b-0f16f7b080a6"
      },
      "execution_count": null,
      "outputs": [
        {
          "output_type": "execute_result",
          "data": {
            "text/plain": [
              "<matplotlib.axes._subplots.AxesSubplot at 0x7fee9b434e10>"
            ]
          },
          "metadata": {},
          "execution_count": 24
        },
        {
          "output_type": "display_data",
          "data": {
            "text/plain": [
              "<Figure size 432x288 with 1 Axes>"
            ],
            "image/png": "[encoded data removed]"
          },
          "metadata": {
            "needs_background": "light"
          }
        }
      ]
    },
    {
      "cell_type": "code",
      "source": [
        "seaborn.histplot(data=df_dummies['oldpeak'])"
      ],
      "metadata": {
        "colab": {
          "base_uri": "https://localhost:8080/",
          "height": 297
        },
        "id": "Gsqb-rKJGzPV",
        "outputId": "2c03529c-8a42-4bd5-fbae-971e4135b0b3"
      },
      "execution_count": null,
      "outputs": [
        {
          "output_type": "execute_result",
          "data": {
            "text/plain": [
              "<matplotlib.axes._subplots.AxesSubplot at 0x7fee9b3d63d0>"
            ]
          },
          "metadata": {},
          "execution_count": 25
        },
        {
          "output_type": "display_data",
          "data": {
            "text/plain": [
              "<Figure size 432x288 with 1 Axes>"
            ],
            "image/png": "[encoded data removed]"
          },
          "metadata": {
            "needs_background": "light"
          }
        }
      ]
    },
    {
      "cell_type": "code",
      "source": [
        "seaborn.histplot(data=df_dummies['chol'])"
      ],
      "metadata": {
        "colab": {
          "base_uri": "https://localhost:8080/",
          "height": 297
        },
        "id": "c_1Rfoj2HBN1",
        "outputId": "734cf1b8-673e-4f70-a3e8-a40afecee313"
      },
      "execution_count": null,
      "outputs": [
        {
          "output_type": "execute_result",
          "data": {
            "text/plain": [
              "<matplotlib.axes._subplots.AxesSubplot at 0x7fee9b2bf850>"
            ]
          },
          "metadata": {},
          "execution_count": 26
        },
        {
          "output_type": "display_data",
          "data": {
            "text/plain": [
              "<Figure size 432x288 with 1 Axes>"
            ],
            "image/png": "[encoded data removed]"
          },
          "metadata": {
            "needs_background": "light"
          }
        }
      ]
    },
    {
      "cell_type": "code",
      "source": [
        "features = df_int_final[['age', 'trestbps', 'chol', 'thalch', 'oldpeak', 'sex_Male',\n",
        "       'cp_atypical angina', 'cp_non-anginal', 'cp_typical angina', 'fbs_True',\n",
        "       'restecg_normal', 'restecg_st-t abnormality', 'exang_True']]"
      ],
      "metadata": {
        "id": "8l7nwGHnHjUI"
      },
      "execution_count": null,
      "outputs": []
    },
    {
      "cell_type": "code",
      "source": [
        "X = features\n",
        "y = df_int_final[['num']]"
      ],
      "metadata": {
        "id": "l2qV-K4Wd63f"
      },
      "execution_count": null,
      "outputs": []
    },
    {
      "cell_type": "code",
      "source": [
        "X_train, X_test, y_train, y_test = train_test_split(X, y, random_state= 0, train_size=0.7)"
      ],
      "metadata": {
        "id": "rF6Nw3pweIB3"
      },
      "execution_count": null,
      "outputs": []
    },
    {
      "cell_type": "code",
      "source": [
        "min_max_scaler = preprocessing.MinMaxScaler()\n",
        "X_tmm = min_max_scaler.fit_transform(X_train)\n",
        "X_testmm = min_max_scaler.fit_transform(X_test)"
      ],
      "metadata": {
        "id": "XI5bO8bO_6wc"
      },
      "execution_count": null,
      "outputs": []
    },
    {
      "cell_type": "code",
      "source": [
        "clf = LogisticRegression(random_state=0).fit(X_tmm, y_train)"
      ],
      "metadata": {
        "colab": {
          "base_uri": "https://localhost:8080/"
        },
        "id": "hRz54gcJfewy",
        "outputId": "15d9b60f-50ee-4e33-9c94-90905121da99"
      },
      "execution_count": null,
      "outputs": [
        {
          "output_type": "stream",
          "name": "stderr",
          "text": [
            "/usr/local/lib/python3.7/dist-packages/sklearn/utils/validation.py:993: DataConversionWarning: A column-vector y was passed when a 1d array was expected. Please change the shape of y to (n_samples, ), for example using ravel().\n",
            "  y = column_or_1d(y, warn=True)\n"
          ]
        }
      ]
    },
    {
      "cell_type": "code",
      "source": [
        "clf.score(X_tmm, y_train)"
      ],
      "metadata": {
        "colab": {
          "base_uri": "https://localhost:8080/"
        },
        "id": "zhZlKO4ZgluT",
        "outputId": "f02536fd-576f-4a4a-9f94-05b5de913c69"
      },
      "execution_count": null,
      "outputs": [
        {
          "output_type": "execute_result",
          "data": {
            "text/plain": [
              "0.6235521235521235"
            ]
          },
          "metadata": {},
          "execution_count": 162
        }
      ]
    },
    {
      "cell_type": "code",
      "source": [
        "est = sm.OLS(y_train, X_tmm)\n",
        "est2 = est.fit()\n",
        "print(est2.summary())"
      ],
      "metadata": {
        "colab": {
          "base_uri": "https://localhost:8080/"
        },
        "id": "UJqAbvt7iEjA",
        "outputId": "b6a5e9c5-7245-4570-d24c-71774b4028d2"
      },
      "execution_count": null,
      "outputs": [
        {
          "output_type": "stream",
          "name": "stdout",
          "text": [
            "                                 OLS Regression Results                                \n",
            "=======================================================================================\n",
            "Dep. Variable:                    num   R-squared (uncentered):                   0.656\n",
            "Model:                            OLS   Adj. R-squared (uncentered):              0.647\n",
            "Method:                 Least Squares   F-statistic:                              73.97\n",
            "Date:                Wed, 12 Oct 2022   Prob (F-statistic):                   7.32e-108\n",
            "Time:                        04:57:10   Log-Likelihood:                         -655.10\n",
            "No. Observations:                 518   AIC:                                      1336.\n",
            "Df Residuals:                     505   BIC:                                      1391.\n",
            "Df Model:                          13                                                  \n",
            "Covariance Type:            nonrobust                                                  \n",
            "==============================================================================\n",
            "                 coef    std err          t      P>|t|      [0.025      0.975]\n",
            "------------------------------------------------------------------------------\n",
            "x1             1.0107      0.214      4.718      0.000       0.590       1.432\n",
            "x2             0.5322      0.324      1.644      0.101      -0.104       1.168\n",
            "x3            -1.3680      0.263     -5.210      0.000      -1.884      -0.852\n",
            "x4            -0.1154      0.224     -0.516      0.606      -0.555       0.324\n",
            "x5             2.2132      0.294      7.522      0.000       1.635       2.791\n",
            "x6             0.3259      0.090      3.627      0.000       0.149       0.502\n",
            "x7            -0.4601      0.114     -4.036      0.000      -0.684      -0.236\n",
            "x8            -0.3902      0.107     -3.649      0.000      -0.600      -0.180\n",
            "x9            -0.4685      0.182     -2.579      0.010      -0.825      -0.112\n",
            "x10            0.1311      0.109      1.198      0.231      -0.084       0.346\n",
            "x11           -0.2186      0.091     -2.400      0.017      -0.398      -0.040\n",
            "x12           -0.1604      0.123     -1.302      0.194      -0.402       0.082\n",
            "x13            0.3950      0.096      4.131      0.000       0.207       0.583\n",
            "==============================================================================\n",
            "Omnibus:                       43.051   Durbin-Watson:                   2.054\n",
            "Prob(Omnibus):                  0.000   Jarque-Bera (JB):               56.377\n",
            "Skew:                           0.657   Prob(JB):                     5.73e-13\n",
            "Kurtosis:                       3.942   Cond. No.                         15.8\n",
            "==============================================================================\n",
            "\n",
            "Notes:\n",
            "[1] R² is computed without centering (uncentered) since the model does not contain a constant.\n",
            "[2] Standard Errors assume that the covariance matrix of the errors is correctly specified.\n"
          ]
        }
      ]
    },
    {
      "cell_type": "markdown",
      "source": [
        "Insignificant variables: \n",
        "\n",
        "\n",
        "*   trestbp\n",
        "*   thalch\n",
        "*   fbs\n",
        "* rest ecg\n",
        "\n",
        "\n"
      ],
      "metadata": {
        "id": "hIqhELmnjvcV"
      }
    },
    {
      "cell_type": "code",
      "source": [
        "tree2 = DecisionTreeClassifier(max_leaf_nodes=5, random_state= 0)\n",
        "tree2.fit(X_train, y_train)"
      ],
      "metadata": {
        "colab": {
          "base_uri": "https://localhost:8080/"
        },
        "id": "Dc3a3jFWkaRI",
        "outputId": "a76131f8-b9e2-49bd-c95e-de0953c8dc63"
      },
      "execution_count": null,
      "outputs": [
        {
          "output_type": "execute_result",
          "data": {
            "text/plain": [
              "DecisionTreeClassifier(max_leaf_nodes=5, random_state=0)"
            ]
          },
          "metadata": {},
          "execution_count": 174
        }
      ]
    },
    {
      "cell_type": "code",
      "source": [
        "tree.plot_tree(tree2)"
      ],
      "metadata": {
        "colab": {
          "base_uri": "https://localhost:8080/",
          "height": 480
        },
        "id": "luBHLefSlMxt",
        "outputId": "91435579-8b57-400d-af12-fb21267ee7ec"
      },
      "execution_count": null,
      "outputs": [
        {
          "output_type": "execute_result",
          "data": {
            "text/plain": [
              "[Text(0.5555555555555556, 0.875, 'X[12] <= 0.5\\ngini = 0.66\\nsamples = 518\\nvalue = [260, 132, 56, 53, 17]'),\n",
              " Text(0.3333333333333333, 0.625, 'X[6] <= 0.5\\ngini = 0.459\\nsamples = 306\\nvalue = [218, 51, 19, 13, 5]'),\n",
              " Text(0.2222222222222222, 0.375, 'X[5] <= 0.5\\ngini = 0.557\\nsamples = 212\\nvalue = [132, 44, 19, 12, 5]'),\n",
              " Text(0.1111111111111111, 0.125, 'gini = 0.292\\nsamples = 61\\nvalue = [51, 5, 2, 2, 1]'),\n",
              " Text(0.3333333333333333, 0.125, 'gini = 0.628\\nsamples = 151\\nvalue = [81, 39, 17, 10, 4]'),\n",
              " Text(0.4444444444444444, 0.375, 'gini = 0.157\\nsamples = 94\\nvalue = [86, 7, 0, 1, 0]'),\n",
              " Text(0.7777777777777778, 0.625, 'X[0] <= 59.5\\ngini = 0.746\\nsamples = 212\\nvalue = [42, 81, 37, 40, 12]'),\n",
              " Text(0.6666666666666666, 0.375, 'gini = 0.688\\nsamples = 136\\nvalue = [29, 65, 19, 18, 5]'),\n",
              " Text(0.8888888888888888, 0.375, 'gini = 0.778\\nsamples = 76\\nvalue = [13, 16, 18, 22, 7]')]"
            ]
          },
          "metadata": {},
          "execution_count": 178
        },
        {
          "output_type": "display_data",
          "data": {
            "text/plain": [
              "<Figure size 432x288 with 1 Axes>"
            ],
            "image/png": "[encoded data removed]"
          },
          "metadata": {
            "needs_background": "light"
          }
        }
      ]
    },
    {
      "cell_type": "code",
      "source": [
        "regressor = RandomForestClassifier(n_estimators=10, random_state=0)\n",
        "regressor.fit(X_tmm, y_train)\n",
        "y_pred= regressor.predict(X_testmm)"
      ],
      "metadata": {
        "colab": {
          "base_uri": "https://localhost:8080/"
        },
        "id": "Che7AE-7l3DD",
        "outputId": "c1f24fa6-66c3-45b4-a849-0ad13ad1f010"
      },
      "execution_count": null,
      "outputs": [
        {
          "output_type": "stream",
          "name": "stderr",
          "text": [
            "/usr/local/lib/python3.7/dist-packages/ipykernel_launcher.py:2: DataConversionWarning: A column-vector y was passed when a 1d array was expected. Please change the shape of y to (n_samples,), for example using ravel().\n",
            "  \n"
          ]
        }
      ]
    },
    {
      "cell_type": "code",
      "source": [
        "print(confusion_matrix(y_test,y_pred))\n",
        "print(classification_report(y_test,y_pred))\n",
        "print(accuracy_score(y_test, y_pred))"
      ],
      "metadata": {
        "colab": {
          "base_uri": "https://localhost:8080/"
        },
        "id": "7hL8xQvinDR2",
        "outputId": "fe9b92a8-37ca-4763-b833-4e4809dd77d0"
      },
      "execution_count": null,
      "outputs": [
        {
          "output_type": "stream",
          "name": "stdout",
          "text": [
            "[[92  5  0  0  0]\n",
            " [35 34  3  0  1]\n",
            " [10 11  0  0  2]\n",
            " [11  9  2  2  1]\n",
            " [ 3  1  0  1  0]]\n",
            "              precision    recall  f1-score   support\n",
            "\n",
            "           0       0.61      0.95      0.74        97\n",
            "           1       0.57      0.47      0.51        73\n",
            "           2       0.00      0.00      0.00        23\n",
            "           3       0.67      0.08      0.14        25\n",
            "           4       0.00      0.00      0.00         5\n",
            "\n",
            "    accuracy                           0.57       223\n",
            "   macro avg       0.37      0.30      0.28       223\n",
            "weighted avg       0.53      0.57      0.51       223\n",
            "\n",
            "0.5739910313901345\n"
          ]
        }
      ]
    }
  ]
}